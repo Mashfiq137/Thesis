{
 "cells": [
  {
   "cell_type": "code",
   "execution_count": 43,
   "metadata": {},
   "outputs": [],
   "source": [
    "import pandas as pd\n",
    "import os \n",
    "import shutil"
   ]
  },
  {
   "cell_type": "code",
   "execution_count": 44,
   "metadata": {},
   "outputs": [],
   "source": [
    "FILE_PATH = \"PC/PADCHEST_chest_x_ray_images_labels_160K_01.02.19.csv\"\n",
    "IMAGES_PATH = \"PC/images-224\""
   ]
  },
  {
   "cell_type": "code",
   "execution_count": 45,
   "metadata": {},
   "outputs": [
    {
     "name": "stderr",
     "output_type": "stream",
     "text": [
      "C:\\Users\\rizvee\\anaconda3\\lib\\site-packages\\IPython\\core\\interactiveshell.py:3071: DtypeWarning: Columns (19,20) have mixed types.Specify dtype option on import or set low_memory=False.\n",
      "  has_raised = await self.run_ast_nodes(code_ast.body, cell_name,\n"
     ]
    }
   ],
   "source": [
    "df = pd.read_csv(FILE_PATH)"
   ]
  },
  {
   "cell_type": "code",
   "execution_count": 46,
   "metadata": {},
   "outputs": [
    {
     "data": {
      "text/plain": [
       "(160861, 36)"
      ]
     },
     "execution_count": 46,
     "metadata": {},
     "output_type": "execute_result"
    }
   ],
   "source": [
    "df.shape"
   ]
  },
  {
   "cell_type": "code",
   "execution_count": 47,
   "metadata": {},
   "outputs": [
    {
     "data": {
      "text/html": [
       "<div>\n",
       "<style scoped>\n",
       "    .dataframe tbody tr th:only-of-type {\n",
       "        vertical-align: middle;\n",
       "    }\n",
       "\n",
       "    .dataframe tbody tr th {\n",
       "        vertical-align: top;\n",
       "    }\n",
       "\n",
       "    .dataframe thead th {\n",
       "        text-align: right;\n",
       "    }\n",
       "</style>\n",
       "<table border=\"1\" class=\"dataframe\">\n",
       "  <thead>\n",
       "    <tr style=\"text-align: right;\">\n",
       "      <th></th>\n",
       "      <th>Unnamed: 0</th>\n",
       "      <th>ImageID</th>\n",
       "      <th>ImageDir</th>\n",
       "      <th>StudyDate_DICOM</th>\n",
       "      <th>StudyID</th>\n",
       "      <th>PatientID</th>\n",
       "      <th>PatientBirth</th>\n",
       "      <th>PatientSex_DICOM</th>\n",
       "      <th>ViewPosition_DICOM</th>\n",
       "      <th>Projection</th>\n",
       "      <th>...</th>\n",
       "      <th>ExposureTime</th>\n",
       "      <th>RelativeXRayExposure_DICOM</th>\n",
       "      <th>ReportID</th>\n",
       "      <th>Report</th>\n",
       "      <th>MethodLabel</th>\n",
       "      <th>Labels</th>\n",
       "      <th>Localizations</th>\n",
       "      <th>LabelsLocalizationsBySentence</th>\n",
       "      <th>labelCUIS</th>\n",
       "      <th>LocalizationsCUIS</th>\n",
       "    </tr>\n",
       "  </thead>\n",
       "  <tbody>\n",
       "    <tr>\n",
       "      <th>0</th>\n",
       "      <td>0</td>\n",
       "      <td>20536686640136348236148679891455886468_k6ga29.png</td>\n",
       "      <td>0</td>\n",
       "      <td>20140915</td>\n",
       "      <td>20536686640136348236148679891455886468</td>\n",
       "      <td>839860488694292331637988235681460987</td>\n",
       "      <td>1930.0</td>\n",
       "      <td>F</td>\n",
       "      <td>POSTEROANTERIOR</td>\n",
       "      <td>PA</td>\n",
       "      <td>...</td>\n",
       "      <td>10</td>\n",
       "      <td>-1.42</td>\n",
       "      <td>4765777</td>\n",
       "      <td>sin hallazg patolog edad pacient .</td>\n",
       "      <td>Physician</td>\n",
       "      <td>['normal']</td>\n",
       "      <td>[]</td>\n",
       "      <td>[['normal'], ['normal']]</td>\n",
       "      <td>[]</td>\n",
       "      <td>[]</td>\n",
       "    </tr>\n",
       "    <tr>\n",
       "      <th>1</th>\n",
       "      <td>1</td>\n",
       "      <td>135803415504923515076821959678074435083_fzis7d...</td>\n",
       "      <td>0</td>\n",
       "      <td>20150914</td>\n",
       "      <td>135803415504923515076821959678074435083</td>\n",
       "      <td>313572750430997347502932654319389875966</td>\n",
       "      <td>1929.0</td>\n",
       "      <td>M</td>\n",
       "      <td>LATERAL</td>\n",
       "      <td>L</td>\n",
       "      <td>...</td>\n",
       "      <td>25</td>\n",
       "      <td>None</td>\n",
       "      <td>4991845</td>\n",
       "      <td>cambi pulmonar cronic sever . sign fibrosis b...</td>\n",
       "      <td>Physician</td>\n",
       "      <td>['pulmonary fibrosis', 'chronic changes', 'kyp...</td>\n",
       "      <td>['loc basal', 'loc basal bilateral']</td>\n",
       "      <td>[['pulmonary fibrosis', 'loc basal bilateral']...</td>\n",
       "      <td>['C0034069' 'C0742362' 'C2115817' 'C3544344']</td>\n",
       "      <td>['C1282378']</td>\n",
       "    </tr>\n",
       "    <tr>\n",
       "      <th>2</th>\n",
       "      <td>2</td>\n",
       "      <td>135803415504923515076821959678074435083_fzis7b...</td>\n",
       "      <td>0</td>\n",
       "      <td>20150914</td>\n",
       "      <td>135803415504923515076821959678074435083</td>\n",
       "      <td>313572750430997347502932654319389875966</td>\n",
       "      <td>1929.0</td>\n",
       "      <td>M</td>\n",
       "      <td>POSTEROANTERIOR</td>\n",
       "      <td>PA</td>\n",
       "      <td>...</td>\n",
       "      <td>10</td>\n",
       "      <td>None</td>\n",
       "      <td>4991845</td>\n",
       "      <td>cambi pulmonar cronic sever . sign fibrosis b...</td>\n",
       "      <td>Physician</td>\n",
       "      <td>['pulmonary fibrosis', 'chronic changes', 'kyp...</td>\n",
       "      <td>['loc basal', 'loc basal bilateral']</td>\n",
       "      <td>[['pulmonary fibrosis', 'loc basal bilateral']...</td>\n",
       "      <td>['C0034069' 'C0742362' 'C2115817' 'C3544344']</td>\n",
       "      <td>['C1282378']</td>\n",
       "    </tr>\n",
       "    <tr>\n",
       "      <th>3</th>\n",
       "      <td>3</td>\n",
       "      <td>113855343774216031107737439268243531979_3k951l...</td>\n",
       "      <td>0</td>\n",
       "      <td>20150717</td>\n",
       "      <td>113855343774216031107737439268243531979</td>\n",
       "      <td>50783093527901818115346441867348318648</td>\n",
       "      <td>1925.0</td>\n",
       "      <td>F</td>\n",
       "      <td>POSTEROANTERIOR</td>\n",
       "      <td>PA</td>\n",
       "      <td>...</td>\n",
       "      <td>8</td>\n",
       "      <td>None</td>\n",
       "      <td>4955977</td>\n",
       "      <td>. . siluet cardi mediastin dentr normal . cam...</td>\n",
       "      <td>Physician</td>\n",
       "      <td>['chronic changes']</td>\n",
       "      <td>['loc cardiac', 'loc mediastinum', 'loc costop...</td>\n",
       "      <td>[['chronic changes'], ['chronic changes'], ['n...</td>\n",
       "      <td>['C0742362']</td>\n",
       "      <td>['C1522601' 'C0025066' 'C0230151']</td>\n",
       "    </tr>\n",
       "    <tr>\n",
       "      <th>4</th>\n",
       "      <td>4</td>\n",
       "      <td>113855343774216031107737439268243531979_3k951n...</td>\n",
       "      <td>0</td>\n",
       "      <td>20150717</td>\n",
       "      <td>113855343774216031107737439268243531979</td>\n",
       "      <td>50783093527901818115346441867348318648</td>\n",
       "      <td>1925.0</td>\n",
       "      <td>F</td>\n",
       "      <td>LATERAL</td>\n",
       "      <td>L</td>\n",
       "      <td>...</td>\n",
       "      <td>20</td>\n",
       "      <td>None</td>\n",
       "      <td>4955977</td>\n",
       "      <td>. . siluet cardi mediastin dentr normal . cam...</td>\n",
       "      <td>Physician</td>\n",
       "      <td>['chronic changes']</td>\n",
       "      <td>['loc cardiac', 'loc mediastinum', 'loc costop...</td>\n",
       "      <td>[['chronic changes'], ['chronic changes'], ['n...</td>\n",
       "      <td>['C0742362']</td>\n",
       "      <td>['C1522601' 'C0025066' 'C0230151']</td>\n",
       "    </tr>\n",
       "  </tbody>\n",
       "</table>\n",
       "<p>5 rows × 36 columns</p>\n",
       "</div>"
      ],
      "text/plain": [
       "   Unnamed: 0                                            ImageID  ImageDir  \\\n",
       "0           0  20536686640136348236148679891455886468_k6ga29.png         0   \n",
       "1           1  135803415504923515076821959678074435083_fzis7d...         0   \n",
       "2           2  135803415504923515076821959678074435083_fzis7b...         0   \n",
       "3           3  113855343774216031107737439268243531979_3k951l...         0   \n",
       "4           4  113855343774216031107737439268243531979_3k951n...         0   \n",
       "\n",
       "   StudyDate_DICOM                                  StudyID  \\\n",
       "0         20140915   20536686640136348236148679891455886468   \n",
       "1         20150914  135803415504923515076821959678074435083   \n",
       "2         20150914  135803415504923515076821959678074435083   \n",
       "3         20150717  113855343774216031107737439268243531979   \n",
       "4         20150717  113855343774216031107737439268243531979   \n",
       "\n",
       "                                 PatientID  PatientBirth PatientSex_DICOM  \\\n",
       "0     839860488694292331637988235681460987        1930.0                F   \n",
       "1  313572750430997347502932654319389875966        1929.0                M   \n",
       "2  313572750430997347502932654319389875966        1929.0                M   \n",
       "3   50783093527901818115346441867348318648        1925.0                F   \n",
       "4   50783093527901818115346441867348318648        1925.0                F   \n",
       "\n",
       "  ViewPosition_DICOM Projection  ... ExposureTime RelativeXRayExposure_DICOM  \\\n",
       "0    POSTEROANTERIOR         PA  ...           10                      -1.42   \n",
       "1            LATERAL          L  ...           25                       None   \n",
       "2    POSTEROANTERIOR         PA  ...           10                       None   \n",
       "3    POSTEROANTERIOR         PA  ...            8                       None   \n",
       "4            LATERAL          L  ...           20                       None   \n",
       "\n",
       "  ReportID                                             Report MethodLabel  \\\n",
       "0  4765777                 sin hallazg patolog edad pacient .   Physician   \n",
       "1  4991845   cambi pulmonar cronic sever . sign fibrosis b...   Physician   \n",
       "2  4991845   cambi pulmonar cronic sever . sign fibrosis b...   Physician   \n",
       "3  4955977   . . siluet cardi mediastin dentr normal . cam...   Physician   \n",
       "4  4955977   . . siluet cardi mediastin dentr normal . cam...   Physician   \n",
       "\n",
       "                                              Labels  \\\n",
       "0                                         ['normal']   \n",
       "1  ['pulmonary fibrosis', 'chronic changes', 'kyp...   \n",
       "2  ['pulmonary fibrosis', 'chronic changes', 'kyp...   \n",
       "3                                ['chronic changes']   \n",
       "4                                ['chronic changes']   \n",
       "\n",
       "                                       Localizations  \\\n",
       "0                                                 []   \n",
       "1               ['loc basal', 'loc basal bilateral']   \n",
       "2               ['loc basal', 'loc basal bilateral']   \n",
       "3  ['loc cardiac', 'loc mediastinum', 'loc costop...   \n",
       "4  ['loc cardiac', 'loc mediastinum', 'loc costop...   \n",
       "\n",
       "                       LabelsLocalizationsBySentence  \\\n",
       "0                           [['normal'], ['normal']]   \n",
       "1  [['pulmonary fibrosis', 'loc basal bilateral']...   \n",
       "2  [['pulmonary fibrosis', 'loc basal bilateral']...   \n",
       "3  [['chronic changes'], ['chronic changes'], ['n...   \n",
       "4  [['chronic changes'], ['chronic changes'], ['n...   \n",
       "\n",
       "                                       labelCUIS  \\\n",
       "0                                             []   \n",
       "1  ['C0034069' 'C0742362' 'C2115817' 'C3544344']   \n",
       "2  ['C0034069' 'C0742362' 'C2115817' 'C3544344']   \n",
       "3                                   ['C0742362']   \n",
       "4                                   ['C0742362']   \n",
       "\n",
       "                    LocalizationsCUIS  \n",
       "0                                  []  \n",
       "1                        ['C1282378']  \n",
       "2                        ['C1282378']  \n",
       "3  ['C1522601' 'C0025066' 'C0230151']  \n",
       "4  ['C1522601' 'C0025066' 'C0230151']  \n",
       "\n",
       "[5 rows x 36 columns]"
      ]
     },
     "execution_count": 47,
     "metadata": {},
     "output_type": "execute_result"
    }
   ],
   "source": [
    "df.head()"
   ]
  },
  {
   "cell_type": "code",
   "execution_count": 48,
   "metadata": {},
   "outputs": [],
   "source": [
    "TARGET_DIR = \"D:/thesis/dataset/Normal\"\n",
    "\n",
    "if not os.path.exists(TARGET_DIR):\n",
    "    os.mkdir(TARGET_DIR)\n",
    "    print(\"Normal Folder Created\")"
   ]
  },
  {
   "cell_type": "code",
   "execution_count": 49,
   "metadata": {},
   "outputs": [
    {
     "name": "stdout",
     "output_type": "stream",
     "text": [
      "50340\n"
     ]
    }
   ],
   "source": [
    "cnt= 0 \n",
    "target = \"[\\'normal\\']\"\n",
    "for (i,row) in df.iterrows():\n",
    "    if row[\"Labels\"]== target:\n",
    "        cnt+=1\n",
    "print(cnt)"
   ]
  },
  {
   "cell_type": "code",
   "execution_count": 50,
   "metadata": {},
   "outputs": [
    {
     "data": {
      "text/plain": [
       "Index(['Unnamed: 0', 'ImageID', 'ImageDir', 'StudyDate_DICOM', 'StudyID',\n",
       "       'PatientID', 'PatientBirth', 'PatientSex_DICOM', 'ViewPosition_DICOM',\n",
       "       'Projection', 'MethodProjection', 'Pediatric', 'Modality_DICOM',\n",
       "       'Manufacturer_DICOM', 'PhotometricInterpretation_DICOM',\n",
       "       'PixelRepresentation_DICOM', 'PixelAspectRatio_DICOM',\n",
       "       'SpatialResolution_DICOM', 'BitsStored_DICOM', 'WindowCenter_DICOM',\n",
       "       'WindowWidth_DICOM', 'Rows_DICOM', 'Columns_DICOM',\n",
       "       'XRayTubeCurrent_DICOM', 'Exposure_DICOM', 'ExposureInuAs_DICOM',\n",
       "       'ExposureTime', 'RelativeXRayExposure_DICOM', 'ReportID', 'Report',\n",
       "       'MethodLabel', 'Labels', 'Localizations',\n",
       "       'LabelsLocalizationsBySentence', 'labelCUIS', 'LocalizationsCUIS'],\n",
       "      dtype='object')"
      ]
     },
     "execution_count": 50,
     "metadata": {},
     "output_type": "execute_result"
    }
   ],
   "source": [
    "df.columns"
   ]
  },
  {
   "cell_type": "code",
   "execution_count": 51,
   "metadata": {},
   "outputs": [
    {
     "name": "stdout",
     "output_type": "stream",
     "text": [
      "34243\n"
     ]
    }
   ],
   "source": [
    "cnt = 0\n",
    "count_append = []\n",
    "for(i,row) in df.iterrows():\n",
    "    if row[\"Labels\"]==target and row[\"Projection\"]==\"PA\":\n",
    "        cnt+=1\n",
    "print(cnt)\n",
    "count_append.append(cnt)"
   ]
  },
  {
   "cell_type": "code",
   "execution_count": 52,
   "metadata": {},
   "outputs": [
    {
     "name": "stdout",
     "output_type": "stream",
     "text": [
      "3395\n"
     ]
    }
   ],
   "source": [
    "cnt = 0\n",
    "target = \"[\\'COPD signs\\']\"\n",
    "for(i,row) in df.iterrows():\n",
    "    if row[\"Labels\"]==target and row[\"Projection\"]==\"PA\":\n",
    "        cnt+=1\n",
    "print(cnt)\n",
    "count_append.append(cnt)"
   ]
  },
  {
   "cell_type": "code",
   "execution_count": 53,
   "metadata": {},
   "outputs": [
    {
     "name": "stdout",
     "output_type": "stream",
     "text": [
      "1760\n"
     ]
    }
   ],
   "source": [
    "cnt = 0\n",
    "target = \"[\\'scoliosis\\']\"\n",
    "for(i,row) in df.iterrows():\n",
    "    if row[\"Labels\"]==target and row[\"Projection\"]==\"PA\":\n",
    "        cnt+=1\n",
    "print(cnt)\n",
    "count_append.append(cnt)"
   ]
  },
  {
   "cell_type": "code",
   "execution_count": 54,
   "metadata": {},
   "outputs": [
    {
     "name": "stdout",
     "output_type": "stream",
     "text": [
      "678\n"
     ]
    }
   ],
   "source": [
    "cnt = 0\n",
    "target = \"[\\'air trapping\\']\"\n",
    "for(i,row) in df.iterrows():\n",
    "    if row[\"Labels\"]==target and row[\"Projection\"]==\"PA\":\n",
    "        cnt+=1\n",
    "print(cnt)\n",
    "count_append.append(cnt)"
   ]
  },
  {
   "cell_type": "code",
   "execution_count": 55,
   "metadata": {},
   "outputs": [
    {
     "name": "stdout",
     "output_type": "stream",
     "text": [
      "734\n"
     ]
    }
   ],
   "source": [
    "cnt = 0\n",
    "target = \"[\\'aortic elongation\\']\"\n",
    "for(i,row) in df.iterrows():\n",
    "    if row[\"Labels\"]==target and row[\"Projection\"]==\"PA\":\n",
    "        cnt+=1\n",
    "print(cnt)\n",
    "count_append.append(cnt)"
   ]
  },
  {
   "cell_type": "code",
   "execution_count": 56,
   "metadata": {},
   "outputs": [
    {
     "name": "stdout",
     "output_type": "stream",
     "text": [
      "393\n"
     ]
    }
   ],
   "source": [
    "cnt = 0\n",
    "target = \"[\\'pleural effusion\\']\"\n",
    "for(i,row) in df.iterrows():\n",
    "    if row[\"Labels\"]==target and row[\"Projection\"]==\"PA\":\n",
    "        cnt+=1\n",
    "print(cnt)\n",
    "count_append.append(cnt)"
   ]
  },
  {
   "cell_type": "code",
   "execution_count": 57,
   "metadata": {},
   "outputs": [
    {
     "name": "stdout",
     "output_type": "stream",
     "text": [
      "476\n"
     ]
    }
   ],
   "source": [
    "cnt = 0\n",
    "target = \"[\\'laminar atelectasis\\']\"\n",
    "for(i,row) in df.iterrows():\n",
    "    if row[\"Labels\"]==target and row[\"Projection\"]==\"PA\":\n",
    "        cnt+=1\n",
    "print(cnt)\n",
    "count_append.append(cnt)"
   ]
  },
  {
   "cell_type": "code",
   "execution_count": 58,
   "metadata": {},
   "outputs": [
    {
     "name": "stdout",
     "output_type": "stream",
     "text": [
      "332\n"
     ]
    }
   ],
   "source": [
    "cnt = 0\n",
    "target = \"[\\'callus rib fracture\\']\"\n",
    "for(i,row) in df.iterrows():\n",
    "    if row[\"Labels\"]==target and row[\"Projection\"]==\"PA\":\n",
    "        cnt+=1\n",
    "print(cnt)\n",
    "count_append.append(cnt)"
   ]
  },
  {
   "cell_type": "code",
   "execution_count": 59,
   "metadata": {},
   "outputs": [
    {
     "name": "stdout",
     "output_type": "stream",
     "text": [
      "177\n"
     ]
    }
   ],
   "source": [
    "cnt = 0\n",
    "target = \"[\\'kyphosis\\']\"\n",
    "for(i,row) in df.iterrows():\n",
    "    if row[\"Labels\"]==target and row[\"Projection\"]==\"PA\":\n",
    "        cnt+=1\n",
    "print(cnt)\n",
    "count_append.append(cnt)"
   ]
  },
  {
   "cell_type": "code",
   "execution_count": 60,
   "metadata": {},
   "outputs": [
    {
     "name": "stdout",
     "output_type": "stream",
     "text": [
      "280\n"
     ]
    }
   ],
   "source": [
    "cnt = 0\n",
    "target = \"[\\'hiatal hernia\\']\"\n",
    "for(i,row) in df.iterrows():\n",
    "    if row[\"Labels\"]==target and row[\"Projection\"]==\"PA\":\n",
    "        cnt+=1\n",
    "print(cnt)\n",
    "count_append.append(cnt)"
   ]
  },
  {
   "cell_type": "code",
   "execution_count": 61,
   "metadata": {},
   "outputs": [
    {
     "name": "stdout",
     "output_type": "stream",
     "text": [
      "294\n"
     ]
    }
   ],
   "source": [
    "cnt = 0\n",
    "target = \"[\\'vascular hilar enlargement\\']\"\n",
    "for(i,row) in df.iterrows():\n",
    "    if row[\"Labels\"]==target and row[\"Projection\"]==\"PA\":\n",
    "        cnt+=1\n",
    "print(cnt)\n",
    "count_append.append(cnt)"
   ]
  },
  {
   "cell_type": "code",
   "execution_count": 62,
   "metadata": {},
   "outputs": [
    {
     "name": "stdout",
     "output_type": "stream",
     "text": [
      "339\n"
     ]
    }
   ],
   "source": [
    "cnt = 0\n",
    "target = \"[\\'calcified granuloma\\']\"\n",
    "for(i,row) in df.iterrows():\n",
    "    if row[\"Labels\"]==target and row[\"Projection\"]==\"PA\":\n",
    "        cnt+=1\n",
    "print(cnt)\n",
    "count_append.append(cnt)"
   ]
  },
  {
   "cell_type": "code",
   "execution_count": 64,
   "metadata": {},
   "outputs": [],
   "source": [
    "labels = ['normal', 'COPD signs', 'scoliosis', 'air trapping', 'aortic elongation','pleural effusion', 'laminar atelectasis','callus rib fracture','kyphosis','hiatal hernia','vascular hilar enlargement','calcified granuloma']"
   ]
  },
  {
   "cell_type": "code",
   "execution_count": 65,
   "metadata": {},
   "outputs": [
    {
     "name": "stdout",
     "output_type": "stream",
     "text": [
      "['normal', 'COPD signs', 'scoliosis', 'air trapping', 'aortic elongation', 'pleural effusion', 'laminar atelectasis', 'callus rib fracture', 'kyphosis', 'hiatal hernia', 'vascular hilar enlargement', 'calcified granuloma']\n",
      "[34243, 3395, 1760, 678, 734, 393, 476, 332, 177, 280, 294, 339]\n"
     ]
    }
   ],
   "source": [
    "print(labels)\n",
    "print(count_append)"
   ]
  },
  {
   "cell_type": "code",
   "execution_count": 70,
   "metadata": {},
   "outputs": [],
   "source": [
    "final_labels = dict(zip(labels,count_append))"
   ]
  },
  {
   "cell_type": "code",
   "execution_count": 71,
   "metadata": {},
   "outputs": [
    {
     "name": "stdout",
     "output_type": "stream",
     "text": [
      "{'normal': 34243, 'COPD signs': 3395, 'scoliosis': 1760, 'air trapping': 678, 'aortic elongation': 734, 'pleural effusion': 393, 'laminar atelectasis': 476, 'callus rib fracture': 332, 'kyphosis': 177, 'hiatal hernia': 280, 'vascular hilar enlargement': 294, 'calcified granuloma': 339}\n"
     ]
    }
   ],
   "source": [
    "print(final_labels)"
   ]
  },
  {
   "cell_type": "code",
   "execution_count": 81,
   "metadata": {},
   "outputs": [
    {
     "data": {
      "image/png": "[encoded data removed]",
      "text/plain": [
       "<Figure size 2160x2160 with 1 Axes>"
      ]
     },
     "metadata": {
      "needs_background": "light"
     },
     "output_type": "display_data"
    }
   ],
   "source": [
    "import matplotlib.pyplot as plt \n",
    "names = list(final_labels.keys())\n",
    "values = list(final_labels.values())\n",
    "\n",
    "plt.figure(figsize=(30,30))\n",
    "plt.xticks(size=20,rotation = 90)\n",
    "plt.yticks(size=20)\n",
    "plt.bar(range(len(final_labels)),values,tick_label=names)\n",
    "plt.show()"
   ]
  },
  {
   "cell_type": "code",
   "execution_count": 82,
   "metadata": {},
   "outputs": [
    {
     "name": "stdout",
     "output_type": "stream",
     "text": [
      "{'normal': 34243, 'COPD signs': 3395, 'scoliosis': 1760, 'air trapping': 678, 'aortic elongation': 734, 'pleural effusion': 393, 'laminar atelectasis': 476, 'callus rib fracture': 332, 'kyphosis': 177, 'hiatal hernia': 280, 'vascular hilar enlargement': 294, 'calcified granuloma': 339}\n"
     ]
    }
   ],
   "source": [
    "print(final_labels)"
   ]
  },
  {
   "cell_type": "code",
   "execution_count": null,
   "metadata": {},
   "outputs": [],
   "source": []
  }
 ],
 "metadata": {
  "kernelspec": {
   "display_name": "Python 3",
   "language": "python",
   "name": "python3"
  },
  "language_info": {
   "codemirror_mode": {
    "name": "ipython",
    "version": 3
   },
   "file_extension": ".py",
   "mimetype": "text/x-python",
   "name": "python",
   "nbconvert_exporter": "python",
   "pygments_lexer": "ipython3",
   "version": "3.8.3"
  }
 },
 "nbformat": 4,
 "nbformat_minor": 4
}
